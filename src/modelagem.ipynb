{
 "cells": [
  {
   "cell_type": "markdown",
   "metadata": {},
   "source": [
    "### Importa o Gurobi"
   ]
  },
  {
   "cell_type": "code",
   "execution_count": 19,
   "metadata": {},
   "outputs": [],
   "source": [
    "from gurobipy import Model, GRB, quicksum"
   ]
  },
  {
   "cell_type": "markdown",
   "metadata": {},
   "source": [
    "### Recebe os dados do arquivo"
   ]
  },
  {
   "cell_type": "code",
   "execution_count": 20,
   "metadata": {},
   "outputs": [],
   "source": [
    "from ler_arquivo import ler_arquivo\n",
    "\n",
    "n_arquivo = input(\"Escolha um número de 1 a 10\")\n",
    "delta, T, m, recursos, lista_adjacencia, vertices = ler_arquivo(f\"instances/fn{n_arquivo}.dat\")"
   ]
  },
  {
   "cell_type": "markdown",
   "metadata": {},
   "source": [
    "### Declara o modelo"
   ]
  },
  {
   "cell_type": "code",
   "execution_count": 21,
   "metadata": {},
   "outputs": [],
   "source": [
    "modelo = Model(\"fake_news\")"
   ]
  },
  {
   "cell_type": "markdown",
   "metadata": {},
   "source": [
    "### Variáveis de decisão do modelo"
   ]
  },
  {
   "cell_type": "markdown",
   "metadata": {},
   "source": [
    "\n",
    "$ ∀ s \\in V \\text{ e } ∀ (u,v) \\in E$: \\\n",
    "$e_{u,v,s} \\in \\{0, 1\\}$ =\n",
    "$\\begin{cases}\n",
    "1, & \\text{se o arco (u,v) é utilizado considerando o vértice inicial de propagação s } \\\\ \n",
    "0, & \\text{caso contrário} \n",
    "\\end{cases}$ \n",
    "\n",
    "$ ∀ i,s \\in V$: \\\n",
    "$t_{i,s} \\in \\Z$ = tempo de chegada da fake news no vértice i considerando o vértice inicial de propagação s \n",
    "\n",
    "$ ∀ i,s \\in V$: \\\n",
    "$y_{i, s} \\in \\{0, 1\\}$ =\n",
    "$\\begin{cases}\n",
    "1, & \\text{se a fake news chega no vértice i ao sair de s antes do tempo T } \\\\\n",
    "0, & \\text{caso contrário} \n",
    "\\end{cases}$ \n",
    "\n",
    "$N \\in \\Z$ = número mínimo de vértices aos quais a fake news chegou antes de T, considerando todos os vértices como iniciais \n",
    "\n",
    "$ ∀ i \\in V \\text{ e } ∀ j \\in \\beta$: \\\n",
    "$r_{i, j} \\in \\{0, 1\\}$ = \n",
    "$\\begin{cases}\n",
    "1, & \\text{se o vértice i possui um recurso que se inicia no tempo j } \\\\ \n",
    "0, & \\text{caso contrário}\n",
    "\\end{cases}$ \n",
    "\n",
    "$ ∀ i \\in V \\text{ e } ∀ j \\in \\beta$: \\\n",
    "$a_{i, j} \\in \\{0, 1\\}$ = \n",
    "$\\begin{cases}\n",
    "1, & \\text{se o recurso j está efetivamente ativado no vértice i } \\\\ \n",
    "0, & \\text{caso contrário}\n",
    "\\end{cases}$\n"
   ]
  },
  {
   "cell_type": "markdown",
   "metadata": {},
   "source": [
    "### Declara as variáveis de decisão em código Python"
   ]
  },
  {
   "cell_type": "code",
   "execution_count": 22,
   "metadata": {},
   "outputs": [],
   "source": [
    "x = {}\n",
    "for v in vertices:\n",
    "    x[v] = modelo.addVar(vtype=GRB.BINARY, name=f'{v}')\n",
    "\n",
    "t = {}\n",
    "y = {}\n",
    "for v in vertices:\n",
    "    for s in vertices:\n",
    "        t[(v, s)] = modelo.addVar(vtype=GRB.INTEGER, name=f'{v}-{s}')\n",
    "        y[(v, s)] = modelo.addVar(vtype=GRB.BINARY, name=f'{v}-{s}')\n",
    "\n",
    "e = {}\n",
    "for s in vertices:\n",
    "    for u, arco in lista_adjacencia.items():\n",
    "        for v, _ in arco:\n",
    "            e[(u, v, s)] = modelo.addVar(vtype=GRB.BINARY, name=f'{u}-{v}-{s}')\n",
    "\n",
    "tempos = recursos.keys()\n",
    "r = {}\n",
    "a = {}\n",
    "for v in vertices:\n",
    "    for tempo in tempos:\n",
    "        r[(v, tempo)] = modelo.addVar(vtype=GRB.BINARY, name=f'{v}-{tempo}')\n",
    "        a[(v, tempo)] = modelo.addVar(vtype=GRB.BINARY, name=f'{v}-{tempo}')\n",
    "\n",
    "N = modelo.addVar(vtype=GRB.INTEGER, name=\"N\")"
   ]
  },
  {
   "cell_type": "markdown",
   "metadata": {},
   "source": [
    "## Restrições:"
   ]
  },
  {
   "cell_type": "markdown",
   "metadata": {},
   "source": [
    "* N deve ser um limitante superior para o número de servidores infectados pela *fake news*, considerando todos os servidores como possíveis propagadores iniciais da *fake news*"
   ]
  },
  {
   "cell_type": "markdown",
   "metadata": {},
   "source": [
    "\n",
    "$$\n",
    "\\sum_{v \\in V}y_{i, s} \\le N \\qquad ∀s \\in V\n",
    "$$"
   ]
  },
  {
   "cell_type": "code",
   "execution_count": 23,
   "metadata": {},
   "outputs": [],
   "source": [
    "for s in vertices:\n",
    "    somatorio = quicksum(y[(vertice, s)] for vertice in vertices)\n",
    "    modelo.addConstr(somatorio <= N)"
   ]
  },
  {
   "cell_type": "markdown",
   "metadata": {},
   "source": [
    "* O servidor inicial está necessariamente infectado"
   ]
  },
  {
   "cell_type": "markdown",
   "metadata": {},
   "source": [
    "$$\n",
    "y_{s, s} = 1 \\qquad ∀s \\in V\n",
    "$$"
   ]
  },
  {
   "cell_type": "code",
   "execution_count": 24,
   "metadata": {},
   "outputs": [],
   "source": [
    "for s in vertices:\n",
    "    modelo.addConstr(y[(s, s)] == 1)"
   ]
  },
  {
   "cell_type": "markdown",
   "metadata": {},
   "source": [
    "* A quantidade de recursos por servidor não pode ser maior que 1"
   ]
  },
  {
   "cell_type": "markdown",
   "metadata": {},
   "source": [
    "\n",
    "$$\n",
    "\\sum_{b \\in \\beta}r_{v, b} \\le 1 \\qquad ∀v \\in V\n",
    "$$"
   ]
  },
  {
   "cell_type": "code",
   "execution_count": 25,
   "metadata": {},
   "outputs": [],
   "source": [
    "for v in vertices:\n",
    "    somatorio = quicksum(r[(v, tempo)] for tempo in tempos)\n",
    "    modelo.addConstr(somatorio <= 1)"
   ]
  },
  {
   "cell_type": "markdown",
   "metadata": {},
   "source": [
    "* A quantidade de recursos instalados para cada tempo de ativação não pode ultrapassar um valor $ \\alpha $"
   ]
  },
  {
   "cell_type": "markdown",
   "metadata": {},
   "source": [
    "\n",
    "$$\n",
    "\\sum_{v \\in V}r_{v, b} = \\alpha_b \\qquad ∀b \\in \\beta\n",
    "$$"
   ]
  },
  {
   "cell_type": "code",
   "execution_count": 26,
   "metadata": {},
   "outputs": [],
   "source": [
    "for tempo in tempos:\n",
    "    somatorio = quicksum(r[(v, tempo)] for v in vertices)\n",
    "    modelo.addConstr(somatorio == recursos[tempo])"
   ]
  },
  {
   "cell_type": "markdown",
   "metadata": {},
   "source": [
    "* Caso um servidor não tenha sido infectado em um tempo T, o valor da variável de decisão que contabiliza o tempo de chegada da *fake news* é zerado"
   ]
  },
  {
   "cell_type": "markdown",
   "metadata": {},
   "source": [
    "\n",
    "$$\n",
    "t_{v, s} \\le T y_{v, s} \\qquad ∀v,s \\in V \n",
    "$$"
   ]
  },
  {
   "cell_type": "code",
   "execution_count": 27,
   "metadata": {},
   "outputs": [],
   "source": [
    "for v in vertices:\n",
    "    for s in vertices:\n",
    "        modelo.addConstr(t[(v, s)] <= T*y[(v, s)])"
   ]
  },
  {
   "cell_type": "markdown",
   "metadata": {},
   "source": [
    "* Um recurso só pode estar ativado em um servidor caso aquele recurso tenha sido alocado para o mesmo"
   ]
  },
  {
   "cell_type": "markdown",
   "metadata": {},
   "source": [
    "\n",
    "$$\n",
    "a_{v, b} \\le r_{v, b} \\qquad ∀v \\in V \\qquad ∀b \\in \\beta  \n",
    "$$"
   ]
  },
  {
   "cell_type": "code",
   "execution_count": 28,
   "metadata": {},
   "outputs": [],
   "source": [
    "for v in vertices:\n",
    "    for tempo in tempos:\n",
    "        modelo.addConstr(a[(v, tempo)] <= r[(v, tempo)])"
   ]
  },
  {
   "cell_type": "markdown",
   "metadata": {},
   "source": [
    "* Um enlace só é utilizado para a propagação de *fake news* caso o servidor de origem esteja contaminado com a *fake news*"
   ]
  },
  {
   "cell_type": "markdown",
   "metadata": {},
   "source": [
    "\n",
    "$$\n",
    "e_{u, v, s} \\le y_{u, s} \\qquad ∀s \\in V \\qquad ∀(u,v) \\in E\n",
    "$$"
   ]
  },
  {
   "cell_type": "code",
   "execution_count": 29,
   "metadata": {},
   "outputs": [],
   "source": [
    "for s in vertices:\n",
    "    for u, arco in lista_adjacencia.items():\n",
    "        for v, _ in arco:\n",
    "            modelo.addConstr(e[(u, v, s)] <= y[(u, s)])"
   ]
  },
  {
   "cell_type": "markdown",
   "metadata": {},
   "source": [
    "* Um servidor só é contaminado pela *fake news* caso algum enlace tenha propagado a *fake news* de um outro servidor infectado para este servidor, com exceção do servidor inicial que é quem divulga primeiramente a *fake news*"
   ]
  },
  {
   "cell_type": "markdown",
   "metadata": {},
   "source": [
    "\n",
    "$$\n",
    "\\sum_{(u,v) \\in E}e_{u, v, s} \\ge y_{v, s} \\qquad ∀v,s \\in V \\qquad v\\neq s  \n",
    "$$"
   ]
  },
  {
   "cell_type": "code",
   "execution_count": 30,
   "metadata": {},
   "outputs": [],
   "source": [
    "for s in vertices:\n",
    "    for v in vertices:\n",
    "        if(v != s):\n",
    "            vertices_chegada = []\n",
    "            for origem, arco in lista_adjacencia.items():\n",
    "                for destino, _ in arco:\n",
    "                    if(destino == v):\n",
    "                        vertices_chegada.append(origem)\n",
    "            somatorio = quicksum(e[(u, v, s)] for u in vertices_chegada)\n",
    "            modelo.addConstr(somatorio >= y[(v, s)])"
   ]
  },
  {
   "cell_type": "markdown",
   "metadata": {},
   "source": [
    "* Se o recurso está ativo no servidor v, então o tempo de chegada contabilizado no servidor v desde o início da propagação da *fake news* deve ser maior ou igual ao tempo de ativação do recurso"
   ]
  },
  {
   "cell_type": "markdown",
   "metadata": {},
   "source": [
    "\n",
    "$$\n",
    "t_{v, s} \\ge b - M(1 - a_{v, b}) \\qquad ∀v,s \\in V \\qquad ∀b \\in \\beta  \n",
    "$$"
   ]
  },
  {
   "cell_type": "code",
   "execution_count": 31,
   "metadata": {},
   "outputs": [],
   "source": [
    "M = 2000\n",
    "for s in vertices:\n",
    "    for v in vertices:\n",
    "        for tempo in tempos:\n",
    "            modelo.addConstr(t[(v, s)] >= tempo - M*(1-a[v, tempo]))"
   ]
  },
  {
   "cell_type": "markdown",
   "metadata": {},
   "source": [
    "* Se o tempo de chegada do contabilizado no servidor v é menor que o tempo de ativação do recurso, então a variável de decisão do recurso é zerada"
   ]
  },
  {
   "cell_type": "markdown",
   "metadata": {},
   "source": [
    "\n",
    "$$\n",
    "t_{v, s} \\le b - 1 + Ma_{v, b} \\qquad ∀v,s \\in V \\qquad ∀b \\in \\beta  \n",
    "$$"
   ]
  },
  {
   "cell_type": "code",
   "execution_count": 32,
   "metadata": {},
   "outputs": [],
   "source": [
    "for s in vertices:\n",
    "    for v in vertices:\n",
    "        for tempo in tempos:\n",
    "            modelo.addConstr(t[(v, s)] <= tempo - 1 + M*a[v, tempo])"
   ]
  },
  {
   "cell_type": "markdown",
   "metadata": {},
   "source": [
    "* O tempo de chegada contabilizado no servidor v deve ser maior ou igual ao tempo de chegada contabilizado no servidor u mais o tempo de propagação base do enlace que liga u a v mais o atraso decorrente do recurso, caso ele esteja ativo. Isso só ocorre se o arco que liga u a v estiver ativo."
   ]
  },
  {
   "cell_type": "markdown",
   "metadata": {},
   "source": [
    "\n",
    "$$\n",
    "t_{v, s} \\ge t_{u, s} + h_{u, v} + \\delta\\sum_{b \\in \\beta}a_{u, b} - M(1- e_{u, v, s}) \\qquad ∀s \\in V \\qquad ∀(u,v) \\in E \\qquad ∀b \\in \\beta  \n",
    "$$"
   ]
  },
  {
   "cell_type": "code",
   "execution_count": 33,
   "metadata": {},
   "outputs": [],
   "source": [
    "for s in vertices:\n",
    "    for u, arco in lista_adjacencia.items():\n",
    "        for v,h in arco:\n",
    "            somatorio = quicksum(a[(u, tempo)] for tempo in tempos)\n",
    "            t[(v, s)] >= t[(u, s)] + h + delta*somatorio -M*(1 - e[(u, v, s)])  "
   ]
  },
  {
   "cell_type": "markdown",
   "metadata": {},
   "source": [
    "### Função objetivo: deve minimizar o N, que representa o limitante superior da quantidade de servidores atingidos pela *fake news* considerando todos os servidores como possíveis propagadores iniciais da *fake_news*"
   ]
  },
  {
   "cell_type": "code",
   "execution_count": 34,
   "metadata": {},
   "outputs": [],
   "source": [
    "modelo.setObjective(N, GRB.MINIMIZE)"
   ]
  },
  {
   "cell_type": "markdown",
   "metadata": {},
   "source": [
    "### Otimização do modelo"
   ]
  },
  {
   "cell_type": "code",
   "execution_count": null,
   "metadata": {},
   "outputs": [],
   "source": [
    "modelo.optimize()"
   ]
  },
  {
   "cell_type": "markdown",
   "metadata": {},
   "source": [
    "### Impressão das soluções:"
   ]
  },
  {
   "cell_type": "code",
   "execution_count": null,
   "metadata": {},
   "outputs": [],
   "source": [
    "if(modelo.status == GRB.OPTIMAL):\n",
    "  print(f'Valor ótimo: {modelo.objVal}')\n",
    "  for recurso in r.items():\n",
    "    for v in vertices:\n",
    "      for tempo in tempos:\n",
    "        print(f'{r[v, tempo].x}')"
   ]
  }
 ],
 "metadata": {
  "kernelspec": {
   "display_name": ".venv",
   "language": "python",
   "name": "python3"
  },
  "language_info": {
   "codemirror_mode": {
    "name": "ipython",
    "version": 3
   },
   "file_extension": ".py",
   "mimetype": "text/x-python",
   "name": "python",
   "nbconvert_exporter": "python",
   "pygments_lexer": "ipython3",
   "version": "3.12.3"
  }
 },
 "nbformat": 4,
 "nbformat_minor": 2
}
